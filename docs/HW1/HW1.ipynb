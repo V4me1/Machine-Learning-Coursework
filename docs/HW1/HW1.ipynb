{
 "cells": [
  {
   "cell_type": "code",
   "execution_count": 32,
   "metadata": {},
   "outputs": [],
   "source": [
    "import pandas as pd\n",
    "import numpy as np\n",
    "import collections\n",
    "from numpy import linalg as LA\n",
    "\n",
    "train = pd.read_csv(\"C:\\Document\\COURSEWORK\\ML\\hw1\\propublicaTrain.csv\")\n",
    "test = pd.read_csv(\"C:\\Document\\COURSEWORK\\ML\\hw1\\propublicaTest.csv\")\n",
    "\n",
    "nn = 3000\n",
    "X_train = train.iloc[:nn, 1:-1]\n",
    "y_train = train.iloc[:nn, 0]\n",
    "X_test = train.iloc[nn:, 1:-1]\n",
    "y_test = train.iloc[nn:, 0].values\n",
    "\n",
    "# mean_list = []\n",
    "# std_list = []\n",
    "# for _, rows in X_train.iteritems():\n",
    "#     mean_list.append(rows.mean())\n",
    "#     std_list.append(rows.std())\n",
    "# X_train = (X_train - mean_list)/std_list\n",
    "# X_test = (X_test - mean_list)/std_list\n"
   ]
  },
  {
   "cell_type": "code",
   "execution_count": 33,
   "metadata": {},
   "outputs": [],
   "source": [
    "class simple_knn():\n",
    "    \n",
    "    def __init__(self):\n",
    "        pass\n",
    "    \n",
    "    def train(self, X, y):\n",
    "        self.X_train = X\n",
    "        self.y_train = y\n",
    "\n",
    "    def predict(self, X_test, k):\n",
    "        distance = self.__dists__(X_test)\n",
    "        num = distance.shape[0]\n",
    "        y_pred = [0]*num\n",
    "        \n",
    "        k_y = self.__k_closest_y__(distance, k)\n",
    "        \n",
    "        for i in range(num):\n",
    "            c = collections.Counter(k_y[i])\n",
    "            y_pred[i] = c.most_common(1)[0][0]\n",
    "        return np.array(y_pred)\n",
    "    \n",
    "    def __k_closest_y__(self, distance, k):\n",
    "        k_y = []\n",
    "        for dis in distance:\n",
    "#             print(np.argsort(dis)[:k], len(k_y))\n",
    "            k_y.append(self.y_train.loc[y_train.index.isin(np.argsort(dis)[:k])])\n",
    "        return k_y\n",
    "    \n",
    "    def __dists__(self, X_test):\n",
    "        dif = []\n",
    "        for _, one_pass in X_test.iterrows():\n",
    "            d = self.X_train - one_pass\n",
    "            d = np.power((abs(d**1)).sum(axis=1), 1/1)\n",
    "#             d = np.inner(self.X_train, one_pass)/(LA.norm(one_pass) * LA.norm(self.X_train))\n",
    "#             d = []\n",
    "#             for _, one_train in self.X_train.iterrows():\n",
    "#                 d.append(np.inner(one_pass, one_train)/(LA.norm(one_train) * LA.norm(one_pass)))\n",
    "            dif.append(d)\n",
    "        return np.array(dif)"
   ]
  },
  {
   "cell_type": "code",
   "execution_count": 36,
   "metadata": {
    "scrolled": true
   },
   "outputs": [
    {
     "name": "stdout",
     "output_type": "stream",
     "text": [
      "0.71 0.6512425021422451\n"
     ]
    }
   ],
   "source": [
    "nn = simple_knn()\n",
    "nn.train(X_train,y_train)\n",
    "pred_y = nn.predict(X_test, k=10)\n",
    "pred_y1 = nn.predict(X_train, k=10)\n",
    "test_accu = np.sum((pred_y == y_test))/len(pred_y)\n",
    "train_accu = np.sum((pred_y1 == y_train.values))/len(pred_y1)\n",
    "print(train_accu, test_accu)"
   ]
  },
  {
   "cell_type": "code",
   "execution_count": 27,
   "metadata": {},
   "outputs": [],
   "source": [
    "class simple_mle():\n",
    "    \n",
    "    def __init__(self):\n",
    "        pass\n",
    "    \n",
    "    def train(self, X, y):\n",
    "        self.X_train = X\n",
    "        self.y_train = y\n",
    "        \n",
    "\n",
    "    def predict(self, X_test):\n",
    "        pred_y = np.zeros(len(X_test))\n",
    "        \n",
    "        class_one = self.X_train[self.y_train==1]\n",
    "        class_zero = self.X_train[self.y_train==0]\n",
    "        \n",
    "        \n",
    "        \n",
    "        \n",
    "        mu_one = class_one.mean()\n",
    "        unbiased_one = class_one - mu_one\n",
    "        sigma_one = self.estimate_sigma(unbiased_one)\n",
    "        p_one = self.multi_normal_density(X_test, mu_one, sigma_one)\n",
    "        \n",
    "        mu_zero = class_zero.mean()\n",
    "        unbiased_zero = class_zero - mu_zero\n",
    "        sigma_zero = self.estimate_sigma(unbiased_zero)\n",
    "        p_zero = self.multi_normal_density(X_test, mu_zero, sigma_zero)\n",
    "        pred_y[p_one >= p_zero] = 1\n",
    "        pred_y[p_one < p_zero] = 0\n",
    "        return pred_y\n",
    "    \n",
    "    def estimate_sigma(self, X_training):\n",
    "#         total = np.zeros((X_training.shape[1], X_training.shape[1]))\n",
    "        total = 0\n",
    "#         for _, rows in X_training.iterrows():\n",
    "#             total += np.outer(rows, rows)\n",
    "        for _, rows in X_training.iterrows():\n",
    "            total += LA.norm(rows)\n",
    "        print(total/len(X_training))\n",
    "        return total/len(X_training)\n",
    "    \n",
    "    def multi_normal_density(self, X_testing, mu, sigma):\n",
    "        X_testing -= mu\n",
    "        sigma_norm = LA.norm(sigma)\n",
    "        constant = 1/(np.power(2*np.pi, len(mu)/2) * sigma_norm**0.5)\n",
    "#         U, s, Vh = LA.svd(sigma)\n",
    "#         t = 1.0e-5\n",
    "#         for ss in s:\n",
    "#             if ss>t: ss = 1/ss\n",
    "#             else: ss = 0\n",
    "#         sigma_inv = np.dot(np.dot(Vh.T, np.diag(s)), U.T)\n",
    "        X_norm = []\n",
    "        for _, rows in X_testing.iterrows():\n",
    "            X_norm.append(LA.norm(rows))\n",
    "        ex = np.exp(-0.5*np.array(X_norm)/sigma_norm)\n",
    "#         print(constant)\n",
    "        return constant * ex"
   ]
  },
  {
   "cell_type": "code",
   "execution_count": 28,
   "metadata": {
    "scrolled": true
   },
   "outputs": [
    {
     "name": "stdout",
     "output_type": "stream",
     "text": [
      "2.7691580400569245\n",
      "2.5095445390300917\n",
      "2.7691580400569245\n",
      "2.5095445390300917\n",
      "0.6543333333333333 0.6503856041131105\n"
     ]
    }
   ],
   "source": [
    "nn = simple_mle()\n",
    "nn.train(X_train,y_train)\n",
    "pred_y = nn.predict(X_test)\n",
    "pred_y1 = nn.predict(X_train)\n",
    "test_accu = np.sum((pred_y == y_test))/len(pred_y)\n",
    "train_accu = np.sum((pred_y1 == y_train.values))/len(pred_y1)\n",
    "print(train_accu, test_accu)"
   ]
  },
  {
   "cell_type": "code",
   "execution_count": 29,
   "metadata": {},
   "outputs": [],
   "source": [
    "class simple_nb():\n",
    "    \n",
    "    def __init__(self):\n",
    "        pass\n",
    "    \n",
    "    def train(self, X, y):\n",
    "        self.X_train = X\n",
    "        self.y_train = y\n",
    "        \n",
    "\n",
    "    def predict(self, X_test, alpha=1):\n",
    "        pred_y = np.zeros(len(X_test))\n",
    "        \n",
    "        class_one = self.X_train[self.y_train==1]\n",
    "        class_zero = self.X_train[self.y_train==0]\n",
    "        \n",
    "        p_y1 = len(class_one)/len(X_train)\n",
    "        p_y0 = 1 - p_y1\n",
    "        \n",
    "        p_one, p_zero = [], []\n",
    "        counter_one, counter_zero = [], []\n",
    "        \n",
    "        for _, col in class_one.iteritems():\n",
    "            counter_one.append(self.count(col,class_one.shape[1], alpha))\n",
    "        for _, col in class_zero.iteritems():\n",
    "            counter_zero.append(self.count(col,class_zero.shape[1], alpha))\n",
    "        \n",
    "        for _, rows in X_test.iterrows():\n",
    "            p_1, p_0 = 1, 1\n",
    "            for i in range(len(rows)):\n",
    "                if rows[i] in counter_one[i].keys():\n",
    "                    p_1 *= counter_one[i][rows[i]]\n",
    "                else:\n",
    "                    p_1 /= (len(class_one) + class_one.shape[1]*alpha)\n",
    "                if rows[i] in counter_zero[i].keys():\n",
    "                    p_0 *= counter_zero[i][rows[i]]\n",
    "                else:\n",
    "                    p_0 /= (len(class_zero) + class_zero.shape[1]*alpha)\n",
    "            p_one.append(p_1*p_y1)\n",
    "            p_zero.append(p_0*p_y0)\n",
    "    \n",
    "        \n",
    "        p_one = np.array(p_one)\n",
    "        p_zero = np.array(p_zero)\n",
    "        pred_y[p_one >= p_zero] = 1\n",
    "        pred_y[p_one < p_zero] = 0\n",
    "        return pred_y\n",
    "    \n",
    "    def count(self, col, num_rows, alpha):\n",
    "        z = dict(collections.Counter(col))\n",
    "        for i in z.keys():\n",
    "            z[i] += alpha\n",
    "            z[i] /= (len(col) + num_rows*alpha)\n",
    "        return z"
   ]
  },
  {
   "cell_type": "code",
   "execution_count": 31,
   "metadata": {},
   "outputs": [
    {
     "name": "stdout",
     "output_type": "stream",
     "text": [
      "0.6686666666666666 0.6546700942587832\n"
     ]
    }
   ],
   "source": [
    "nn = simple_nb()\n",
    "nn.train(X_train,y_train)\n",
    "pred_y = nn.predict(X_test, alpha = 1)\n",
    "pred_y1 = nn.predict(X_train, alpha = 1)\n",
    "test_accu = np.sum((pred_y == y_test))/len(pred_y)\n",
    "train_accu = np.sum((pred_y1 == y_train.values))/len(pred_y1)\n",
    "print(train_accu, test_accu)"
   ]
  },
  {
   "cell_type": "code",
   "execution_count": 30,
   "metadata": {
    "scrolled": true
   },
   "outputs": [
    {
     "name": "stdout",
     "output_type": "stream",
     "text": [
      "sex\n",
      "age\n",
      "race\n",
      "juv_fel_count\n",
      "juv_misd_count\n",
      "juv_other_count\n",
      "priors_count\n",
      "c_charge_degree_F\n",
      "c_charge_degree_M\n"
     ]
    }
   ],
   "source": [
    "# np.inner(X_test.iloc[3,:], X_test.iloc[3,:])\n",
    "# LA.norm(X_test.iloc[3,:])**2\n",
    "# hh = X_train.iloc[:10, :]\n",
    "# z = np.outer(hh, hh)\n",
    "# total = np.zeros((hh.values.shape[1],hh.values.shape[1]))\n",
    "# for _ , rows in hh.iterrows():\n",
    "#     total += np.outer(rows, rows)\n",
    "# print(z.shape, total)\n",
    "# # hh.values.shape\n",
    "# a = np.array([[1,6,7],[2,12,14],[3,18,21]])\n",
    "# i = [[2, 1, 3],[4,2,1],[5,0,2]]\n",
    "# np.dot(np.dot(a, i), a.T)\n",
    "# # b = np.array([1,6,7])\n",
    "# # np.dot(np.dot(b, i), b.T) \n",
    "# np.diag(np.diag(a))\n",
    "\n",
    "z = dict(collections.Counter(X_train))\n",
    "for i in z.keys():\n",
    "    print(i)"
   ]
  }
 ],
 "metadata": {
  "kernelspec": {
   "display_name": "Python 3",
   "language": "python",
   "name": "python3"
  },
  "language_info": {
   "codemirror_mode": {
    "name": "ipython",
    "version": 3
   },
   "file_extension": ".py",
   "mimetype": "text/x-python",
   "name": "python",
   "nbconvert_exporter": "python",
   "pygments_lexer": "ipython3",
   "version": "3.7.1"
  }
 },
 "nbformat": 4,
 "nbformat_minor": 1
}
